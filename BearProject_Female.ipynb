{
 "cells": [
  {
   "cell_type": "code",
   "execution_count": 1,
   "metadata": {},
   "outputs": [],
   "source": [
    "import matplotlib.pyplot as plt\n",
    "import numpy as np\n",
    "import pandas as pd\n",
    "%matplotlib inline\n",
    "from stemgraphic import stem_graphic"
   ]
  },
  {
   "cell_type": "code",
   "execution_count": 2,
   "metadata": {},
   "outputs": [
    {
     "data": {
      "text/html": [
       "<div>\n",
       "<style scoped>\n",
       "    .dataframe tbody tr th:only-of-type {\n",
       "        vertical-align: middle;\n",
       "    }\n",
       "\n",
       "    .dataframe tbody tr th {\n",
       "        vertical-align: top;\n",
       "    }\n",
       "\n",
       "    .dataframe thead th {\n",
       "        text-align: right;\n",
       "    }\n",
       "</style>\n",
       "<table border=\"1\" class=\"dataframe\">\n",
       "  <thead>\n",
       "    <tr style=\"text-align: right;\">\n",
       "      <th></th>\n",
       "      <th>Age</th>\n",
       "      <th>Month</th>\n",
       "      <th>Sex</th>\n",
       "      <th>Headlength</th>\n",
       "      <th>Headwidth</th>\n",
       "      <th>Neck</th>\n",
       "      <th>Length</th>\n",
       "      <th>Chest</th>\n",
       "      <th>Weight</th>\n",
       "    </tr>\n",
       "  </thead>\n",
       "  <tbody>\n",
       "    <tr>\n",
       "      <th>count</th>\n",
       "      <td>19.000000</td>\n",
       "      <td>19.000000</td>\n",
       "      <td>19.0</td>\n",
       "      <td>19.000000</td>\n",
       "      <td>19.000000</td>\n",
       "      <td>19.000000</td>\n",
       "      <td>19.000000</td>\n",
       "      <td>19.000000</td>\n",
       "      <td>19.000000</td>\n",
       "    </tr>\n",
       "    <tr>\n",
       "      <th>mean</th>\n",
       "      <td>51.210526</td>\n",
       "      <td>8.263158</td>\n",
       "      <td>2.0</td>\n",
       "      <td>12.447368</td>\n",
       "      <td>5.684211</td>\n",
       "      <td>18.421053</td>\n",
       "      <td>57.131579</td>\n",
       "      <td>33.552632</td>\n",
       "      <td>151.842105</td>\n",
       "    </tr>\n",
       "    <tr>\n",
       "      <th>std</th>\n",
       "      <td>30.900519</td>\n",
       "      <td>2.077448</td>\n",
       "      <td>0.0</td>\n",
       "      <td>1.763005</td>\n",
       "      <td>0.960476</td>\n",
       "      <td>4.947679</td>\n",
       "      <td>8.809468</td>\n",
       "      <td>8.074127</td>\n",
       "      <td>90.378994</td>\n",
       "    </tr>\n",
       "    <tr>\n",
       "      <th>min</th>\n",
       "      <td>8.000000</td>\n",
       "      <td>4.000000</td>\n",
       "      <td>2.0</td>\n",
       "      <td>9.000000</td>\n",
       "      <td>4.500000</td>\n",
       "      <td>10.000000</td>\n",
       "      <td>36.000000</td>\n",
       "      <td>19.000000</td>\n",
       "      <td>26.000000</td>\n",
       "    </tr>\n",
       "    <tr>\n",
       "      <th>25%</th>\n",
       "      <td>18.500000</td>\n",
       "      <td>8.000000</td>\n",
       "      <td>2.0</td>\n",
       "      <td>11.500000</td>\n",
       "      <td>5.000000</td>\n",
       "      <td>15.000000</td>\n",
       "      <td>52.250000</td>\n",
       "      <td>28.500000</td>\n",
       "      <td>90.500000</td>\n",
       "    </tr>\n",
       "    <tr>\n",
       "      <th>50%</th>\n",
       "      <td>57.000000</td>\n",
       "      <td>9.000000</td>\n",
       "      <td>2.0</td>\n",
       "      <td>13.000000</td>\n",
       "      <td>5.500000</td>\n",
       "      <td>19.000000</td>\n",
       "      <td>60.500000</td>\n",
       "      <td>32.000000</td>\n",
       "      <td>140.000000</td>\n",
       "    </tr>\n",
       "    <tr>\n",
       "      <th>75%</th>\n",
       "      <td>75.500000</td>\n",
       "      <td>9.500000</td>\n",
       "      <td>2.0</td>\n",
       "      <td>13.500000</td>\n",
       "      <td>6.500000</td>\n",
       "      <td>21.250000</td>\n",
       "      <td>63.000000</td>\n",
       "      <td>39.000000</td>\n",
       "      <td>203.000000</td>\n",
       "    </tr>\n",
       "    <tr>\n",
       "      <th>max</th>\n",
       "      <td>104.000000</td>\n",
       "      <td>11.000000</td>\n",
       "      <td>2.0</td>\n",
       "      <td>15.500000</td>\n",
       "      <td>7.000000</td>\n",
       "      <td>28.000000</td>\n",
       "      <td>70.000000</td>\n",
       "      <td>48.000000</td>\n",
       "      <td>356.000000</td>\n",
       "    </tr>\n",
       "  </tbody>\n",
       "</table>\n",
       "</div>"
      ],
      "text/plain": [
       "              Age      Month   Sex  Headlength  Headwidth       Neck  \\\n",
       "count   19.000000  19.000000  19.0   19.000000  19.000000  19.000000   \n",
       "mean    51.210526   8.263158   2.0   12.447368   5.684211  18.421053   \n",
       "std     30.900519   2.077448   0.0    1.763005   0.960476   4.947679   \n",
       "min      8.000000   4.000000   2.0    9.000000   4.500000  10.000000   \n",
       "25%     18.500000   8.000000   2.0   11.500000   5.000000  15.000000   \n",
       "50%     57.000000   9.000000   2.0   13.000000   5.500000  19.000000   \n",
       "75%     75.500000   9.500000   2.0   13.500000   6.500000  21.250000   \n",
       "max    104.000000  11.000000   2.0   15.500000   7.000000  28.000000   \n",
       "\n",
       "          Length      Chest      Weight  \n",
       "count  19.000000  19.000000   19.000000  \n",
       "mean   57.131579  33.552632  151.842105  \n",
       "std     8.809468   8.074127   90.378994  \n",
       "min    36.000000  19.000000   26.000000  \n",
       "25%    52.250000  28.500000   90.500000  \n",
       "50%    60.500000  32.000000  140.000000  \n",
       "75%    63.000000  39.000000  203.000000  \n",
       "max    70.000000  48.000000  356.000000  "
      ]
     },
     "execution_count": 2,
     "metadata": {},
     "output_type": "execute_result"
    }
   ],
   "source": [
    "df = pd.read_csv('bear_info_female.csv')\n",
    "df.describe()"
   ]
  },
  {
   "cell_type": "code",
   "execution_count": 3,
   "metadata": {},
   "outputs": [
    {
     "data": {
      "text/plain": [
       "(<Figure size 540x252 with 1 Axes>,\n",
       " <matplotlib.axes._axes.Axes at 0x11ad35c50>)"
      ]
     },
     "execution_count": 3,
     "metadata": {},
     "output_type": "execute_result"
    },
    {
     "data": {
      "image/png": "[encoded data removed]",
      "text/plain": [
       "<Figure size 540x252 with 1 Axes>"
      ]
     },
     "metadata": {
      "needs_background": "light"
     },
     "output_type": "display_data"
    }
   ],
   "source": [
    "stem_graphic(df['Age'])"
   ]
  },
  {
   "cell_type": "code",
   "execution_count": 4,
   "metadata": {},
   "outputs": [
    {
     "data": {
      "image/png": "[encoded data removed]",
      "text/plain": [
       "<Figure size 432x288 with 1 Axes>"
      ]
     },
     "metadata": {
      "needs_background": "light"
     },
     "output_type": "display_data"
    }
   ],
   "source": [
    "data = df['Month']\n",
    "bins = np.arange(4,13)-0.5\n",
    "\n",
    "hist, edges = np.histogram(data, bins=bins)\n",
    "\n",
    "y = np.arange(1,hist.max()+1)\n",
    "x = np.arange(4,12)\n",
    "X,Y = np.meshgrid(x,y)\n",
    "\n",
    "plt.scatter(X,Y, c=Y<=hist, cmap=\"Greys\")\n",
    "plt.xlabel('Month of Measurement',fontsize=15)\n",
    "plt.ylabel('No. of Bears',fontsize=15)\n",
    "plt.title('Bear Month of Measurement',fontsize=15)\n",
    "\n",
    "plt.show()"
   ]
  },
  {
   "cell_type": "code",
   "execution_count": 5,
   "metadata": {},
   "outputs": [
    {
     "data": {
      "image/png": "[encoded data removed]",
      "text/plain": [
       "<Figure size 432x288 with 1 Axes>"
      ]
     },
     "metadata": {
      "needs_background": "light"
     },
     "output_type": "display_data"
    }
   ],
   "source": [
    "data = df['Headlength']\n",
    "plt.hist(data, bins=np.arange(min(data),max(data)+2)-0.5, ec=\"k\")\n",
    "\n",
    "plt.xticks(range(9,18))\n",
    "plt.xlabel('Headlength (in.)',fontsize=15)\n",
    "plt.ylabel('No. of Bears',fontsize=15)\n",
    "plt.title('Bear Headlength',fontsize=15)\n",
    "plt.show()"
   ]
  },
  {
   "cell_type": "code",
   "execution_count": 6,
   "metadata": {},
   "outputs": [],
   "source": [
    "# TODO: Head Width (bar)"
   ]
  },
  {
   "cell_type": "code",
   "execution_count": 7,
   "metadata": {},
   "outputs": [
    {
     "data": {
      "image/png": "[encoded data removed]",
      "text/plain": [
       "<Figure size 432x288 with 1 Axes>"
      ]
     },
     "metadata": {
      "needs_background": "light"
     },
     "output_type": "display_data"
    }
   ],
   "source": [
    "plt.boxplot(df['Neck'], vert=False)\n",
    "\n",
    "plt.yticks([])\n",
    "plt.xlabel('Neck (in.)',fontsize=15)\n",
    "plt.title('Bear Neck Length',fontsize=15)\n",
    "plt.show()"
   ]
  },
  {
   "cell_type": "code",
   "execution_count": 8,
   "metadata": {},
   "outputs": [
    {
     "data": {
      "image/png": "[encoded data removed]",
      "text/plain": [
       "<Figure size 432x288 with 1 Axes>"
      ]
     },
     "metadata": {
      "needs_background": "light"
     },
     "output_type": "display_data"
    }
   ],
   "source": [
    "plt.boxplot(df['Length'], vert=False)\n",
    "\n",
    "plt.yticks([])\n",
    "plt.xlabel('Length (in.)',fontsize=15)\n",
    "plt.title('Bear Length',fontsize=15)\n",
    "plt.show()"
   ]
  },
  {
   "cell_type": "code",
   "execution_count": 9,
   "metadata": {},
   "outputs": [
    {
     "data": {
      "image/png": "[encoded data removed]",
      "text/plain": [
       "<Figure size 432x288 with 1 Axes>"
      ]
     },
     "metadata": {
      "needs_background": "light"
     },
     "output_type": "display_data"
    }
   ],
   "source": [
    "plt.boxplot(df['Chest'], vert=False)\n",
    "\n",
    "plt.yticks([])\n",
    "plt.xlabel('Chest (in.)',fontsize=15)\n",
    "plt.title('Bear Chest Length',fontsize=15)\n",
    "plt.show()"
   ]
  },
  {
   "cell_type": "code",
   "execution_count": 10,
   "metadata": {},
   "outputs": [
    {
     "data": {
      "image/png": "[encoded data removed]",
      "text/plain": [
       "<Figure size 432x288 with 1 Axes>"
      ]
     },
     "metadata": {
      "needs_background": "light"
     },
     "output_type": "display_data"
    }
   ],
   "source": [
    "plt.boxplot(df['Weight'], vert=False)\n",
    "\n",
    "plt.yticks([])\n",
    "plt.xlabel('Weight (lbs.)',fontsize=15)\n",
    "plt.title('Bear Weight',fontsize=15)\n",
    "plt.show()"
   ]
  }
 ],
 "metadata": {
  "kernelspec": {
   "display_name": "Python 3",
   "language": "python",
   "name": "python3"
  },
  "language_info": {
   "codemirror_mode": {
    "name": "ipython",
    "version": 3
   },
   "file_extension": ".py",
   "mimetype": "text/x-python",
   "name": "python",
   "nbconvert_exporter": "python",
   "pygments_lexer": "ipython3",
   "version": "3.7.5"
  }
 },
 "nbformat": 4,
 "nbformat_minor": 4
}
